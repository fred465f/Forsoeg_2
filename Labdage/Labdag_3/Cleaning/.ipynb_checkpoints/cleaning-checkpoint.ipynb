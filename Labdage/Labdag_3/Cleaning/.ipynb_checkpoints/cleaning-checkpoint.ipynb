{
 "cells": [
  {
   "cell_type": "code",
   "execution_count": 1,
   "metadata": {},
   "outputs": [],
   "source": [
    "# Standard Libraries\n",
    "from Lab import *"
   ]
  },
  {
   "cell_type": "code",
   "execution_count": 2,
   "metadata": {},
   "outputs": [
    {
     "name": "stdout",
     "output_type": "stream",
     "text": [
      "\n",
      "        Imported packages and functions:\n",
      "        -----------------------------------------\n",
      "        Imported matplotlib.pyplot as plt\n",
      "        and imported numpy as np\n",
      "        and imported pandas as pd\n",
      "        and imported numpy.fft as fft\n",
      "        and imported seaborn as sns\n",
      "        and imported time\n",
      "        and imported curve_fit from scipy.optimize\n",
      "        \n"
     ]
    }
   ],
   "source": [
    "lab = Lab()"
   ]
  },
  {
   "cell_type": "code",
   "execution_count": 3,
   "metadata": {},
   "outputs": [],
   "source": [
    "# Load csv fra en ydre mappe '..' går en mappe tilbage og '/Data' går ind i den ydre mappe Data\n",
    "df = pd.read_csv('../Data/100_spænding_detektor.csv', delimiter = ';')"
   ]
  },
  {
   "cell_type": "code",
   "execution_count": 4,
   "metadata": {},
   "outputs": [
    {
     "data": {
      "text/html": [
       "<div>\n",
       "<style scoped>\n",
       "    .dataframe tbody tr th:only-of-type {\n",
       "        vertical-align: middle;\n",
       "    }\n",
       "\n",
       "    .dataframe tbody tr th {\n",
       "        vertical-align: top;\n",
       "    }\n",
       "\n",
       "    .dataframe thead th {\n",
       "        text-align: right;\n",
       "    }\n",
       "</style>\n",
       "<table border=\"1\" class=\"dataframe\">\n",
       "  <thead>\n",
       "    <tr style=\"text-align: right;\">\n",
       "      <th></th>\n",
       "      <th>Frekvens</th>\n",
       "      <th>Kanal A</th>\n",
       "      <th>Kanal B</th>\n",
       "    </tr>\n",
       "  </thead>\n",
       "  <tbody>\n",
       "    <tr>\n",
       "      <th>0</th>\n",
       "      <td>(ms)</td>\n",
       "      <td>(V)</td>\n",
       "      <td>(mV)</td>\n",
       "    </tr>\n",
       "    <tr>\n",
       "      <th>1</th>\n",
       "      <td>0,00000000</td>\n",
       "      <td>1,40778800</td>\n",
       "      <td>56,89591000</td>\n",
       "    </tr>\n",
       "    <tr>\n",
       "      <th>2</th>\n",
       "      <td>0,00040000</td>\n",
       "      <td>1,40778800</td>\n",
       "      <td>56,89591000</td>\n",
       "    </tr>\n",
       "    <tr>\n",
       "      <th>3</th>\n",
       "      <td>0,00080000</td>\n",
       "      <td>1,40778800</td>\n",
       "      <td>56,89591000</td>\n",
       "    </tr>\n",
       "    <tr>\n",
       "      <th>4</th>\n",
       "      <td>0,00120000</td>\n",
       "      <td>1,40778800</td>\n",
       "      <td>56,89591000</td>\n",
       "    </tr>\n",
       "  </tbody>\n",
       "</table>\n",
       "</div>"
      ],
      "text/plain": [
       "     Frekvens     Kanal A      Kanal B\n",
       "0        (ms)         (V)         (mV)\n",
       "1  0,00000000  1,40778800  56,89591000\n",
       "2  0,00040000  1,40778800  56,89591000\n",
       "3  0,00080000  1,40778800  56,89591000\n",
       "4  0,00120000  1,40778800  56,89591000"
      ]
     },
     "execution_count": 4,
     "metadata": {},
     "output_type": "execute_result"
    }
   ],
   "source": [
    "# Visualiser dataframe\n",
    "df.head()"
   ]
  },
  {
   "cell_type": "code",
   "execution_count": 5,
   "metadata": {},
   "outputs": [],
   "source": [
    "# Get nescesarry data\n",
    "data = pd.DataFrame({'Frekvens': [], 'Kanal A': [], 'Kanal B': []})\n",
    "with open('../Data/100_spænding_detektor.csv', 'r') as file:\n",
    "    count = 0\n",
    "    for i in range(5, len(df)):\n",
    "        if i % 40 == 0:\n",
    "            try:\n",
    "                data.loc[count] = [float(x.replace(',', '.')) for x in file.readline().split(';')]\n",
    "                count += 1\n",
    "            except:\n",
    "                pass\n",
    "        file.readline()"
   ]
  },
  {
   "cell_type": "code",
   "execution_count": 6,
   "metadata": {},
   "outputs": [
    {
     "data": {
      "image/png": "[encoded data removed]",
      "text/plain": [
       "<Figure size 720x360 with 1 Axes>"
      ]
     },
     "metadata": {
      "needs_background": "light"
     },
     "output_type": "display_data"
    }
   ],
   "source": [
    "# Plot data\n",
    "fig, ax = plt.subplots(1, 1, figsize=(10, 5))\n",
    "ax.scatter(data['Frekvens'], data['Kanal B'], color = 'blue')\n",
    "\n",
    "# Plot settings\n",
    "ax.set_xlabel('Frekvens (ms)')\n",
    "ax.set_ylabel('Volt (mV)')\n",
    "ax.grid()\n",
    "plt.show()"
   ]
  },
  {
   "cell_type": "code",
   "execution_count": 7,
   "metadata": {},
   "outputs": [],
   "source": [
    "sorted_data = data.sort_values(by = ['Kanal B'], inplace = False)\n",
    "maximum = np.mean(list(sorted_data['Kanal B'])[-50])"
   ]
  },
  {
   "cell_type": "code",
   "execution_count": 8,
   "metadata": {},
   "outputs": [
    {
     "data": {
      "image/png": "[encoded data removed]",
      "text/plain": [
       "<Figure size 720x360 with 1 Axes>"
      ]
     },
     "metadata": {
      "needs_background": "light"
     },
     "output_type": "display_data"
    }
   ],
   "source": [
    "# Plot data\n",
    "fig, ax = plt.subplots(1, 1, figsize=(10, 5))\n",
    "ax.scatter(data['Frekvens'], data['Kanal B'], color = 'blue', label = 'data')\n",
    "ax.hlines(maximum, 0, 20, color = 'black', linestyles = 'dashed', label = 'maximum')\n",
    "\n",
    "# Plot settings\n",
    "ax.set_xlabel('Frekvens (ms)')\n",
    "ax.set_ylabel('Volt (mV)')\n",
    "ax.grid()\n",
    "plt.show()"
   ]
  },
  {
   "cell_type": "code",
   "execution_count": 9,
   "metadata": {},
   "outputs": [],
   "source": [
    "# Get nescesarry data\n",
    "data_frames = []\n",
    "flat_line = None\n",
    "angles = list(range(95, 141, 5)) + list(range(150, 231, 10)) + [250, 340]\n",
    "for angle in angles:\n",
    "    data_ = pd.DataFrame({'Frekvens': [], 'Kanal A': [], 'Kanal B': []})\n",
    "    with open('../Data/{}_spænding_detektor.csv'.format(angle), 'r') as file:\n",
    "        count = 0\n",
    "        for i in range(5, len(df)):\n",
    "            if i % 40 == 0:\n",
    "                try:\n",
    "                    data_.loc[count] = [float(x.replace(',', '.')) for x in file.readline().split(';')]\n",
    "                    count += 1\n",
    "                except:\n",
    "                    pass\n",
    "            file.readline()\n",
    "    if angle == 340:\n",
    "        flat_line = data_\n",
    "    else:\n",
    "        data_frames.append(data_)"
   ]
  },
  {
   "cell_type": "code",
   "execution_count": 10,
   "metadata": {},
   "outputs": [],
   "source": [
    "# Subtract flatline 'Kanal B' data from all data_frames\n",
    "# for df in data_frames:\n",
    "#     df['Kanal B'] = df['Kanal B'] - flat_line['Kanal B']"
   ]
  },
  {
   "cell_type": "code",
   "execution_count": 11,
   "metadata": {},
   "outputs": [],
   "source": [
    "data_final = pd.DataFrame({'Angle': [], 'Kanal B': []})\n",
    "for i, angle in enumerate(angles):\n",
    "    if i < len(angles) - 1:\n",
    "        sorted_data_ = data_frames[i].sort_values(by = ['Kanal B'], inplace = False)\n",
    "        maximum_ = np.mean(list(sorted_data_['Kanal B'])[-50])\n",
    "        data_final.loc[i] = [angle, maximum_]\n",
    "    else:\n",
    "        pass"
   ]
  },
  {
   "cell_type": "code",
   "execution_count": 12,
   "metadata": {},
   "outputs": [
    {
     "data": {
      "text/html": [
       "<div>\n",
       "<style scoped>\n",
       "    .dataframe tbody tr th:only-of-type {\n",
       "        vertical-align: middle;\n",
       "    }\n",
       "\n",
       "    .dataframe tbody tr th {\n",
       "        vertical-align: top;\n",
       "    }\n",
       "\n",
       "    .dataframe thead th {\n",
       "        text-align: right;\n",
       "    }\n",
       "</style>\n",
       "<table border=\"1\" class=\"dataframe\">\n",
       "  <thead>\n",
       "    <tr style=\"text-align: right;\">\n",
       "      <th></th>\n",
       "      <th>Angle</th>\n",
       "      <th>Kanal B</th>\n",
       "    </tr>\n",
       "  </thead>\n",
       "  <tbody>\n",
       "    <tr>\n",
       "      <th>0</th>\n",
       "      <td>95.0</td>\n",
       "      <td>76.72243</td>\n",
       "    </tr>\n",
       "    <tr>\n",
       "      <th>1</th>\n",
       "      <td>100.0</td>\n",
       "      <td>73.27448</td>\n",
       "    </tr>\n",
       "    <tr>\n",
       "      <th>2</th>\n",
       "      <td>105.0</td>\n",
       "      <td>72.41019</td>\n",
       "    </tr>\n",
       "    <tr>\n",
       "      <th>3</th>\n",
       "      <td>110.0</td>\n",
       "      <td>70.68774</td>\n",
       "    </tr>\n",
       "    <tr>\n",
       "      <th>4</th>\n",
       "      <td>115.0</td>\n",
       "      <td>71.54897</td>\n",
       "    </tr>\n",
       "  </tbody>\n",
       "</table>\n",
       "</div>"
      ],
      "text/plain": [
       "   Angle   Kanal B\n",
       "0   95.0  76.72243\n",
       "1  100.0  73.27448\n",
       "2  105.0  72.41019\n",
       "3  110.0  70.68774\n",
       "4  115.0  71.54897"
      ]
     },
     "execution_count": 12,
     "metadata": {},
     "output_type": "execute_result"
    }
   ],
   "source": [
    "data_final.head()"
   ]
  },
  {
   "cell_type": "code",
   "execution_count": 13,
   "metadata": {},
   "outputs": [],
   "source": [
    "# Upload csv til en ydre mappe via. samme metode som for loading\n",
    "if False:\n",
    "    data_final.to_csv('../Cleaned_Data/cleaned_data.csv', index = False)"
   ]
  }
 ],
 "metadata": {
  "kernelspec": {
   "display_name": "Python 3",
   "language": "python",
   "name": "python3"
  },
  "language_info": {
   "codemirror_mode": {
    "name": "ipython",
    "version": 3
   },
   "file_extension": ".py",
   "mimetype": "text/x-python",
   "name": "python",
   "nbconvert_exporter": "python",
   "pygments_lexer": "ipython3",
   "version": "3.8.3"
  }
 },
 "nbformat": 4,
 "nbformat_minor": 4
}
