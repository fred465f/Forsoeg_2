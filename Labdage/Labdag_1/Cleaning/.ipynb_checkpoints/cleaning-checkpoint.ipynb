{
 "cells": [
  {
   "cell_type": "code",
   "execution_count": 1,
   "metadata": {},
   "outputs": [],
   "source": [
    "# Standard Libraries\n",
    "import numpy as np\n",
    "import pandas as pd"
   ]
  },
  {
   "cell_type": "code",
   "execution_count": 2,
   "metadata": {},
   "outputs": [],
   "source": [
    "# Funktioner\n",
    "def find_ekstremums_punkter(df, tolerance = 1):\n",
    "    maksimumer = [] # Index'er\n",
    "    minimumer = [] # Index'er\n",
    "    for i, v_gen in enumerate(df['V_gen']):\n",
    "        if i != 0 and i < len(df['V_gen']) - 1:\n",
    "            if (v_gen > df['V_gen'][i-1 * tolerance]) and (v_gen > df['V_gen'][i+1 * tolerance]): # Maksimum\n",
    "                maksimumer.append(i)\n",
    "            elif (v_gen < df['V_gen'][i-1]) and (v_gen < df['V_gen'][i+1]): # Minimum\n",
    "                minimumer.append(i)\n",
    "    return maksimumer, minimumer"
   ]
  },
  {
   "cell_type": "code",
   "execution_count": 3,
   "metadata": {},
   "outputs": [],
   "source": [
    "# Load csv fra en ydre mappe '..' går en mappe tilbage og '/Data' går ind i den ydre mappe Data\n",
    "df = pd.read_csv('../Data/data.csv')"
   ]
  },
  {
   "cell_type": "code",
   "execution_count": 4,
   "metadata": {},
   "outputs": [
    {
     "data": {
      "text/html": [
       "<div>\n",
       "<style scoped>\n",
       "    .dataframe tbody tr th:only-of-type {\n",
       "        vertical-align: middle;\n",
       "    }\n",
       "\n",
       "    .dataframe tbody tr th {\n",
       "        vertical-align: top;\n",
       "    }\n",
       "\n",
       "    .dataframe thead th {\n",
       "        text-align: right;\n",
       "    }\n",
       "</style>\n",
       "<table border=\"1\" class=\"dataframe\">\n",
       "  <thead>\n",
       "    <tr style=\"text-align: right;\">\n",
       "      <th></th>\n",
       "      <th>V_gen</th>\n",
       "      <th>V_det</th>\n",
       "    </tr>\n",
       "  </thead>\n",
       "  <tbody>\n",
       "    <tr>\n",
       "      <th>0</th>\n",
       "      <td>1</td>\n",
       "      <td>0</td>\n",
       "    </tr>\n",
       "    <tr>\n",
       "      <th>1</th>\n",
       "      <td>2</td>\n",
       "      <td>0</td>\n",
       "    </tr>\n",
       "    <tr>\n",
       "      <th>2</th>\n",
       "      <td>3</td>\n",
       "      <td>0</td>\n",
       "    </tr>\n",
       "    <tr>\n",
       "      <th>3</th>\n",
       "      <td>4</td>\n",
       "      <td>0</td>\n",
       "    </tr>\n",
       "    <tr>\n",
       "      <th>4</th>\n",
       "      <td>5</td>\n",
       "      <td>0</td>\n",
       "    </tr>\n",
       "    <tr>\n",
       "      <th>5</th>\n",
       "      <td>6</td>\n",
       "      <td>0</td>\n",
       "    </tr>\n",
       "    <tr>\n",
       "      <th>6</th>\n",
       "      <td>7</td>\n",
       "      <td>0</td>\n",
       "    </tr>\n",
       "    <tr>\n",
       "      <th>7</th>\n",
       "      <td>8</td>\n",
       "      <td>0</td>\n",
       "    </tr>\n",
       "    <tr>\n",
       "      <th>8</th>\n",
       "      <td>9</td>\n",
       "      <td>0</td>\n",
       "    </tr>\n",
       "    <tr>\n",
       "      <th>9</th>\n",
       "      <td>8</td>\n",
       "      <td>0</td>\n",
       "    </tr>\n",
       "  </tbody>\n",
       "</table>\n",
       "</div>"
      ],
      "text/plain": [
       "   V_gen  V_det\n",
       "0      1      0\n",
       "1      2      0\n",
       "2      3      0\n",
       "3      4      0\n",
       "4      5      0\n",
       "5      6      0\n",
       "6      7      0\n",
       "7      8      0\n",
       "8      9      0\n",
       "9      8      0"
      ]
     },
     "execution_count": 4,
     "metadata": {},
     "output_type": "execute_result"
    }
   ],
   "source": [
    "# Vis dataframe\n",
    "df.head(10)"
   ]
  },
  {
   "cell_type": "code",
   "execution_count": 5,
   "metadata": {},
   "outputs": [],
   "source": [
    "# Find maksimumer og minimumer i Generator data\n",
    "maks, mini = find_ekstremums_punkter(df)\n",
    "\n",
    "# Split data ind i \"savtakker\", altså lineært stigende/aftagende \n",
    "savtakker = [] # Lister af lister bestående af to dataframes en for stigende og en for aftagende V_gen\n",
    "for i in range(len(mini)):\n",
    "    if i < len(mini) - 1:\n",
    "        if maks[0] < mini[0]:\n",
    "            savtakker.append([list(df['V_gen'][mini[i]:maks[i+1]]), list(df['V_gen'][maks[i+1]:mini[i+1]])])\n",
    "        elif maks[0] > mini[0]:\n",
    "            savtakker.append([list(df['V_gen'][mini[i]:maks[i]]), list(df['V_gen'][maks[i]:mini[i+1]])])"
   ]
  },
  {
   "cell_type": "code",
   "execution_count": 6,
   "metadata": {},
   "outputs": [],
   "source": [
    "# Upload csv til en ydre mappe via. samme metode som for loading\n",
    "df.to_csv('../Cleaned_Data/data.csv')"
   ]
  },
  {
   "cell_type": "code",
   "execution_count": 7,
   "metadata": {},
   "outputs": [],
   "source": [
    "# Upload maks og min index'er til csv\n",
    "df_maks_mini = pd.DataFrame({'maksimumer': maks[1:], 'minimumer': mini})\n",
    "df_maks_mini.to_csv('../Cleaned_Data/data_maks_mini.csv')"
   ]
  },
  {
   "cell_type": "code",
   "execution_count": 8,
   "metadata": {},
   "outputs": [],
   "source": [
    "# Upload savtakker til csv\n",
    "for i, savtak in enumerate(savtakker):\n",
    "    df_savtak = pd.DataFrame({'V_det_inc': savtak[0], 'V_det_dec': savtak[1]})\n",
    "    df_savtak.to_csv('../Cleaned_Data/data_savtak_{}.csv'.format(i))"
   ]
  },
  {
   "cell_type": "code",
   "execution_count": null,
   "metadata": {},
   "outputs": [],
   "source": []
  }
 ],
 "metadata": {
  "kernelspec": {
   "display_name": "Python 3",
   "language": "python",
   "name": "python3"
  },
  "language_info": {
   "codemirror_mode": {
    "name": "ipython",
    "version": 3
   },
   "file_extension": ".py",
   "mimetype": "text/x-python",
   "name": "python",
   "nbconvert_exporter": "python",
   "pygments_lexer": "ipython3",
   "version": "3.8.3"
  }
 },
 "nbformat": 4,
 "nbformat_minor": 4
}
